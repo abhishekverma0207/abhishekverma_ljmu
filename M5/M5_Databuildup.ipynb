{
  "nbformat": 4,
  "nbformat_minor": 0,
  "metadata": {
    "colab": {
      "provenance": [],
      "mount_file_id": "1URLYsjORZlPFrNM3dzcN4BKy_FFAnXdM",
      "authorship_tag": "ABX9TyP7/itXvC+KZZ+Zyc4g2HoF",
      "include_colab_link": true
    },
    "kernelspec": {
      "name": "python3",
      "display_name": "Python 3"
    },
    "language_info": {
      "name": "python"
    }
  },
  "cells": [
    {
      "cell_type": "markdown",
      "metadata": {
        "id": "view-in-github",
        "colab_type": "text"
      },
      "source": [
        "<a href=\"https://colab.research.google.com/github/abhishekverma0207/abhishekverma_ljmu/blob/main/M5/M5_Databuildup.ipynb\" target=\"_parent\"><img src=\"https://colab.research.google.com/assets/colab-badge.svg\" alt=\"Open In Colab\"/></a>"
      ]
    },
    {
      "cell_type": "code",
      "execution_count": 3,
      "metadata": {
        "colab": {
          "base_uri": "https://localhost:8080/"
        },
        "id": "iDHy7cWYINOg",
        "outputId": "95097f33-c847-440c-f434-0893c332fa9e"
      },
      "outputs": [
        {
          "output_type": "stream",
          "name": "stdout",
          "text": [
            "Mounted at /content/drive\n"
          ]
        }
      ],
      "source": [
        "from google.colab import drive\n",
        "drive.mount('/content/drive')"
      ]
    },
    {
      "cell_type": "code",
      "source": [
        "import os\n",
        "os.environ['KAGGLE_CONFIG_DIR'] = '/content/drive/MyDrive'"
      ],
      "metadata": {
        "id": "6L4i_PtnSqJp"
      },
      "execution_count": 12,
      "outputs": []
    },
    {
      "cell_type": "code",
      "source": [
        "!kaggle competitions download -c m5-forecasting-accuracy"
      ],
      "metadata": {
        "colab": {
          "base_uri": "https://localhost:8080/"
        },
        "id": "GgPvuDOhS9Yp",
        "outputId": "eb42df21-c55b-4d71-c3df-cb339118e996"
      },
      "execution_count": 13,
      "outputs": [
        {
          "output_type": "stream",
          "name": "stdout",
          "text": [
            "Downloading m5-forecasting-accuracy.zip to /content\n",
            " 55% 25.0M/45.8M [00:00<00:00, 119MB/s] \n",
            "100% 45.8M/45.8M [00:00<00:00, 148MB/s]\n"
          ]
        }
      ]
    },
    {
      "cell_type": "code",
      "source": [
        "!rm *.zip"
      ],
      "metadata": {
        "id": "x5jiK4JBUTFR"
      },
      "execution_count": 15,
      "outputs": []
    },
    {
      "cell_type": "markdown",
      "source": [
        "# Data loading"
      ],
      "metadata": {
        "id": "eqr6focaIPZC"
      }
    },
    {
      "cell_type": "markdown",
      "source": [
        "#### Installing dependent packages"
      ],
      "metadata": {
        "id": "RdwkwShnPiRY"
      }
    },
    {
      "cell_type": "code",
      "source": [
        "!pip install lightning\n",
        "!pip install pytorch_forecasting"
      ],
      "metadata": {
        "id": "vdCTE219PB5x"
      },
      "execution_count": null,
      "outputs": []
    },
    {
      "cell_type": "code",
      "source": [
        "import pandas as pd\n",
        "import numpy as np\n",
        "\n",
        "\n",
        "# import lightning.pytorch as pl\n",
        "# from lightning.pytorch.callbacks import EarlyStopping, LearningRateMonitor\n",
        "# from lightning.pytorch.loggers import TensorBoardLogger\n",
        "# import numpy as np\n",
        "# import pandas as pd\n",
        "import torch\n",
        "from pytorch_forecasting import Baseline, TemporalFusionTransformer, TimeSeriesDataSet"
      ],
      "metadata": {
        "id": "SaNmBNmlIiF9"
      },
      "execution_count": 11,
      "outputs": []
    }
  ]
}